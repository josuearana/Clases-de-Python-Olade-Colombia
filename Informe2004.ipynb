{
 "cells": [
  {
   "cell_type": "markdown",
   "metadata": {},
   "source": [
    "# Informe de aportes hidrologicos para el año 2004"
   ]
  },
  {
   "cell_type": "code",
   "execution_count": 10,
   "metadata": {
    "collapsed": false,
    "scrolled": true
   },
   "outputs": [
    {
     "name": "stdout",
     "output_type": "stream",
     "text": [
      "Writing comandos_vistos_en_clase.txt\n"
     ]
    }
   ],
   "source": [
    "\n",
    "%%writefile comandos_vistos_en_clase.txt\n",
    "comando para lista lo que hay en carpeta %ls 2\n",
    "comando para escribir un archivo %%writefile nombrearchivo.txt 3\n"
   ]
  },
  {
   "cell_type": "code",
   "execution_count": 8,
   "metadata": {
    "collapsed": false
   },
   "outputs": [
    {
     "name": "stdout",
     "output_type": "stream",
     "text": [
      " El volumen de la unidad C es OS\n",
      " El n£mero de serie del volumen es: D098-F348\n",
      "\n",
      " Directorio de C:\\Users\\hpalacios\\Desktop\\Diplomado en Analitica de Mercados Energeticos\\Dia 2\\Datos Energ¡a Colombia\\Aportes Diarios\n",
      "\n",
      "10/02/2017  08:00 a.m.    <DIR>          .\n",
      "10/02/2017  08:00 a.m.    <DIR>          ..\n",
      "10/02/2017  07:54 a.m.    <DIR>          .ipynb_checkpoints\n",
      "08/02/2017  08:50 a.m.           359,670 AportesDiario_2000.xlsx\n",
      "08/02/2017  08:50 a.m.           437,178 AportesDiario_2001.txt\n",
      "08/02/2017  08:50 a.m.           453,303 AportesDiario_2002.xlsx\n",
      "08/02/2017  08:50 a.m.           497,369 AportesDiario_2003.txt\n",
      "08/02/2017  08:50 a.m.           499,945 AportesDiario_2004.csv\n",
      "08/02/2017  08:50 a.m.           483,838 AportesDiario_2005.xlsx\n",
      "08/02/2017  08:50 a.m.           477,656 AportesDiario_2006.csv\n",
      "08/02/2017  08:51 a.m.           500,920 AportesDiario_2007.txt\n",
      "08/02/2017  08:50 a.m.           486,575 AportesDiario_2008.xlsx\n",
      "08/02/2017  08:51 a.m.           499,026 AportesDiario_2009.csv\n",
      "08/02/2017  08:51 a.m.           499,866 AportesDiario_2010.txt\n",
      "08/02/2017  08:51 a.m.           508,300 AportesDiario_2011.xlsx\n",
      "08/02/2017  08:51 a.m.           887,330 AportesDiario_2012.prn\n",
      "08/02/2017  08:52 a.m.           543,729 AportesDiario_2013.csv\n",
      "08/02/2017  08:52 a.m.           545,807 AportesDiario_2014.xlsx\n",
      "08/02/2017  08:52 a.m.           576,089 AportesDiario_2015.csv\n",
      "08/02/2017  08:52 a.m.         1,431,552 AportesDiario_2016.xls\n",
      "10/02/2017  08:01 a.m.               112 demo2.txt\n",
      "10/02/2017  08:00 a.m.             3,339 Untitled.ipynb\n",
      "              19 archivos      9,691,604 bytes\n",
      "               3 dirs  293,067,137,024 bytes libres\n"
     ]
    }
   ],
   "source": [
    "%ls\n"
   ]
  },
  {
   "cell_type": "code",
   "execution_count": 18,
   "metadata": {
    "collapsed": true
   },
   "outputs": [],
   "source": [
    "# importa pandas, Se hace una sola vez\n",
    "import pandas as pd"
   ]
  },
  {
   "cell_type": "code",
   "execution_count": 25,
   "metadata": {
    "collapsed": false
   },
   "outputs": [],
   "source": [
    "x= pd.read_csv('AportesDiario_2004.csv',sep=';',decimal=',',thousands='.',skiprows=3)"
   ]
  },
  {
   "cell_type": "code",
   "execution_count": 26,
   "metadata": {
    "collapsed": false
   },
   "outputs": [
    {
     "data": {
      "text/plain": [
       "0       2004-01-01\n",
       "1       2004-01-01\n",
       "2       2004-01-01\n",
       "3       2004-01-01\n",
       "4       2004-01-01\n",
       "5       2004-01-01\n",
       "6       2004-01-01\n",
       "7       2004-01-01\n",
       "8       2004-01-01\n",
       "9       2004-01-01\n",
       "10      2004-01-01\n",
       "11      2004-01-01\n",
       "12      2004-01-01\n",
       "13      2004-01-01\n",
       "14      2004-01-01\n",
       "15      2004-01-01\n",
       "16      2004-01-01\n",
       "17      2004-01-01\n",
       "18      2004-01-01\n",
       "19      2004-01-01\n",
       "20      2004-01-01\n",
       "21      2004-01-01\n",
       "22      2004-01-01\n",
       "23      2004-01-01\n",
       "24      2004-01-02\n",
       "25      2004-01-02\n",
       "26      2004-01-02\n",
       "27      2004-01-02\n",
       "28      2004-01-02\n",
       "29      2004-01-02\n",
       "           ...    \n",
       "8756    2004-12-30\n",
       "8757    2004-12-30\n",
       "8758    2004-12-30\n",
       "8759    2004-12-30\n",
       "8760    2004-12-31\n",
       "8761    2004-12-31\n",
       "8762    2004-12-31\n",
       "8763    2004-12-31\n",
       "8764    2004-12-31\n",
       "8765    2004-12-31\n",
       "8766    2004-12-31\n",
       "8767    2004-12-31\n",
       "8768    2004-12-31\n",
       "8769    2004-12-31\n",
       "8770    2004-12-31\n",
       "8771    2004-12-31\n",
       "8772    2004-12-31\n",
       "8773    2004-12-31\n",
       "8774    2004-12-31\n",
       "8775    2004-12-31\n",
       "8776    2004-12-31\n",
       "8777    2004-12-31\n",
       "8778    2004-12-31\n",
       "8779    2004-12-31\n",
       "8780    2004-12-31\n",
       "8781    2004-12-31\n",
       "8782    2004-12-31\n",
       "8783    2004-12-31\n",
       "8784           NaN\n",
       "8785           NaN\n",
       "Name: Fecha, dtype: object"
      ]
     },
     "execution_count": 26,
     "metadata": {},
     "output_type": "execute_result"
    }
   ],
   "source": [
    "x['Fecha']\n"
   ]
  },
  {
   "cell_type": "code",
   "execution_count": 34,
   "metadata": {
    "collapsed": false
   },
   "outputs": [],
   "source": [
    "seleccion= x[x['Nombre Rio']=='GRANDE']"
   ]
  },
  {
   "cell_type": "code",
   "execution_count": 35,
   "metadata": {
    "collapsed": false
   },
   "outputs": [
    {
     "data": {
      "text/plain": [
       "366"
      ]
     },
     "execution_count": 35,
     "metadata": {},
     "output_type": "execute_result"
    }
   ],
   "source": [
    "len (seleccion)"
   ]
  },
  {
   "cell_type": "code",
   "execution_count": 37,
   "metadata": {
    "collapsed": false
   },
   "outputs": [
    {
     "data": {
      "text/html": [
       "<div>\n",
       "<table border=\"1\" class=\"dataframe\">\n",
       "  <thead>\n",
       "    <tr style=\"text-align: right;\">\n",
       "      <th></th>\n",
       "      <th>Aportes Caudal m3/s</th>\n",
       "      <th>Aportes Energia kWh</th>\n",
       "    </tr>\n",
       "    <tr>\n",
       "      <th>Nombre Rio</th>\n",
       "      <th></th>\n",
       "      <th></th>\n",
       "    </tr>\n",
       "  </thead>\n",
       "  <tbody>\n",
       "    <tr>\n",
       "      <th>A. SAN LORENZO</th>\n",
       "      <td>36.466612</td>\n",
       "      <td>8.105400e+06</td>\n",
       "    </tr>\n",
       "    <tr>\n",
       "      <th>ALTOANCHICAYA</th>\n",
       "      <td>43.468716</td>\n",
       "      <td>4.620596e+06</td>\n",
       "    </tr>\n",
       "    <tr>\n",
       "      <th>BATA</th>\n",
       "      <td>95.478989</td>\n",
       "      <td>1.571243e+07</td>\n",
       "    </tr>\n",
       "    <tr>\n",
       "      <th>BOGOTA N.R.</th>\n",
       "      <td>28.051803</td>\n",
       "      <td>1.277674e+07</td>\n",
       "    </tr>\n",
       "    <tr>\n",
       "      <th>CALIMA</th>\n",
       "      <td>11.922077</td>\n",
       "      <td>5.560117e+05</td>\n",
       "    </tr>\n",
       "    <tr>\n",
       "      <th>CAUCA SALVAJINA</th>\n",
       "      <td>113.523306</td>\n",
       "      <td>2.519614e+06</td>\n",
       "    </tr>\n",
       "    <tr>\n",
       "      <th>CHUZA</th>\n",
       "      <td>9.742486</td>\n",
       "      <td>4.337967e+06</td>\n",
       "    </tr>\n",
       "    <tr>\n",
       "      <th>CONCEPCION</th>\n",
       "      <td>6.606667</td>\n",
       "      <td>1.488170e+06</td>\n",
       "    </tr>\n",
       "    <tr>\n",
       "      <th>DESV. EEPPM (NEC,PAJ,DOL)</th>\n",
       "      <td>8.312240</td>\n",
       "      <td>2.291866e+06</td>\n",
       "    </tr>\n",
       "    <tr>\n",
       "      <th>DIGUA</th>\n",
       "      <td>27.529536</td>\n",
       "      <td>4.299954e+05</td>\n",
       "    </tr>\n",
       "    <tr>\n",
       "      <th>FLORIDA II</th>\n",
       "      <td>10.712486</td>\n",
       "      <td>2.148367e+05</td>\n",
       "    </tr>\n",
       "    <tr>\n",
       "      <th>GRANDE</th>\n",
       "      <td>27.511967</td>\n",
       "      <td>6.729973e+06</td>\n",
       "    </tr>\n",
       "    <tr>\n",
       "      <th>GUADALUPE</th>\n",
       "      <td>20.167978</td>\n",
       "      <td>4.542911e+06</td>\n",
       "    </tr>\n",
       "    <tr>\n",
       "      <th>GUATAPE</th>\n",
       "      <td>34.103033</td>\n",
       "      <td>5.624479e+06</td>\n",
       "    </tr>\n",
       "    <tr>\n",
       "      <th>GUAVIO</th>\n",
       "      <td>85.884563</td>\n",
       "      <td>2.062469e+07</td>\n",
       "    </tr>\n",
       "    <tr>\n",
       "      <th>MAGDALENA BETANIA</th>\n",
       "      <td>374.490765</td>\n",
       "      <td>5.580630e+06</td>\n",
       "    </tr>\n",
       "    <tr>\n",
       "      <th>MIEL I</th>\n",
       "      <td>78.433251</td>\n",
       "      <td>3.430428e+06</td>\n",
       "    </tr>\n",
       "    <tr>\n",
       "      <th>NARE</th>\n",
       "      <td>49.711612</td>\n",
       "      <td>1.738808e+07</td>\n",
       "    </tr>\n",
       "    <tr>\n",
       "      <th>OTROS RIOS (ESTIMADOS)</th>\n",
       "      <td>NaN</td>\n",
       "      <td>3.700457e+06</td>\n",
       "    </tr>\n",
       "    <tr>\n",
       "      <th>PORCE II</th>\n",
       "      <td>99.292650</td>\n",
       "      <td>4.976887e+06</td>\n",
       "    </tr>\n",
       "    <tr>\n",
       "      <th>PRADO</th>\n",
       "      <td>45.597268</td>\n",
       "      <td>4.984191e+05</td>\n",
       "    </tr>\n",
       "    <tr>\n",
       "      <th>SAN CARLOS</th>\n",
       "      <td>24.910492</td>\n",
       "      <td>3.084509e+06</td>\n",
       "    </tr>\n",
       "    <tr>\n",
       "      <th>SINU URRA</th>\n",
       "      <td>284.444208</td>\n",
       "      <td>3.165074e+06</td>\n",
       "    </tr>\n",
       "    <tr>\n",
       "      <th>TENCHE</th>\n",
       "      <td>3.900874</td>\n",
       "      <td>8.786683e+05</td>\n",
       "    </tr>\n",
       "  </tbody>\n",
       "</table>\n",
       "</div>"
      ],
      "text/plain": [
       "                           Aportes Caudal m3/s  Aportes Energia kWh\n",
       "Nombre Rio                                                         \n",
       "A. SAN LORENZO                       36.466612         8.105400e+06\n",
       "ALTOANCHICAYA                        43.468716         4.620596e+06\n",
       "BATA                                 95.478989         1.571243e+07\n",
       "BOGOTA N.R.                          28.051803         1.277674e+07\n",
       "CALIMA                               11.922077         5.560117e+05\n",
       "CAUCA SALVAJINA                     113.523306         2.519614e+06\n",
       "CHUZA                                 9.742486         4.337967e+06\n",
       "CONCEPCION                            6.606667         1.488170e+06\n",
       "DESV. EEPPM (NEC,PAJ,DOL)             8.312240         2.291866e+06\n",
       "DIGUA                                27.529536         4.299954e+05\n",
       "FLORIDA II                           10.712486         2.148367e+05\n",
       "GRANDE                               27.511967         6.729973e+06\n",
       "GUADALUPE                            20.167978         4.542911e+06\n",
       "GUATAPE                              34.103033         5.624479e+06\n",
       "GUAVIO                               85.884563         2.062469e+07\n",
       "MAGDALENA BETANIA                   374.490765         5.580630e+06\n",
       "MIEL I                               78.433251         3.430428e+06\n",
       "NARE                                 49.711612         1.738808e+07\n",
       "OTROS RIOS (ESTIMADOS)                     NaN         3.700457e+06\n",
       "PORCE II                             99.292650         4.976887e+06\n",
       "PRADO                                45.597268         4.984191e+05\n",
       "SAN CARLOS                           24.910492         3.084509e+06\n",
       "SINU URRA                           284.444208         3.165074e+06\n",
       "TENCHE                                3.900874         8.786683e+05"
      ]
     },
     "execution_count": 37,
     "metadata": {},
     "output_type": "execute_result"
    }
   ],
   "source": [
    "x.groupby('Nombre Rio').mean()"
   ]
  },
  {
   "cell_type": "code",
   "execution_count": 42,
   "metadata": {
    "collapsed": false,
    "scrolled": true
   },
   "outputs": [
    {
     "name": "stdout",
     "output_type": "stream",
     "text": [
      "GRANDE 6729973.22404\n",
      "GUATAPE 5624479.23497\n",
      "MIEL I 3430428.4153\n",
      "CALIMA 556011.748634\n",
      "DESV. EEPPM (NEC,PAJ,DOL) nan\n",
      "SAN CARLOS 3084508.74317\n",
      "CAUCA SALVAJINA 2519614.48087\n",
      "BOGOTA N.R. nan\n",
      "ALTOANCHICAYA 4620595.90164\n",
      "OTROS RIOS (ESTIMADOS) 3700456.8306\n",
      "DIGUA 429995.355191\n",
      "BATA 15712428.4153\n",
      "CONCEPCION 1488170.4918\n",
      "A. SAN LORENZO 8105399.72678\n",
      "TENCHE 878668.306011\n",
      "GUADALUPE 4542910.92896\n",
      "NARE 17388083.6066\n",
      "PRADO 498419.125683\n",
      "GUAVIO 20624689.3443\n",
      "CHUZA nan\n",
      "SINU URRA 3165074.04372\n",
      "PORCE II 4976887.15847\n",
      "FLORIDA II nan\n",
      "MAGDALENA BETANIA 5580630.32787\n"
     ]
    }
   ],
   "source": [
    "import statistics\n",
    "n = set (x['Nombre Rio'])\n",
    "\n",
    "for y in n: \n",
    "    z = x[x['Nombre Rio'] == y ]['Aportes Energia kWh']\n",
    "    if len(z) > 0:\n",
    "        print(y,statistics.mean(x[x['Nombre Rio']== y]['Aportes Energia kWh'].values[:]))\n"
   ]
  },
  {
   "cell_type": "code",
   "execution_count": 43,
   "metadata": {
    "collapsed": false
   },
   "outputs": [
    {
     "data": {
      "text/plain": [
       "{nan,\n",
       " 'GRANDE',\n",
       " 'GUATAPE',\n",
       " 'MIEL I',\n",
       " 'CALIMA',\n",
       " 'DESV. EEPPM (NEC,PAJ,DOL)',\n",
       " 'SAN CARLOS',\n",
       " 'CAUCA SALVAJINA',\n",
       " 'BOGOTA N.R.',\n",
       " 'ALTOANCHICAYA',\n",
       " 'OTROS RIOS (ESTIMADOS)',\n",
       " 'DIGUA',\n",
       " 'BATA',\n",
       " 'CONCEPCION',\n",
       " 'A. SAN LORENZO',\n",
       " 'TENCHE',\n",
       " 'GUADALUPE',\n",
       " 'NARE',\n",
       " 'PRADO',\n",
       " 'GUAVIO',\n",
       " 'CHUZA',\n",
       " 'SINU URRA',\n",
       " 'PORCE II',\n",
       " 'FLORIDA II',\n",
       " 'MAGDALENA BETANIA'}"
      ]
     },
     "execution_count": 43,
     "metadata": {},
     "output_type": "execute_result"
    }
   ],
   "source": [
    "set (x['Nombre Rio'])"
   ]
  },
  {
   "cell_type": "code",
   "execution_count": 46,
   "metadata": {
    "collapsed": true
   },
   "outputs": [],
   "source": [
    "aportese = x[x['Nombre Rio'] == y ]['Aportes Energia kWh']"
   ]
  },
  {
   "cell_type": "code",
   "execution_count": 45,
   "metadata": {
    "collapsed": false
   },
   "outputs": [
    {
     "name": "stdout",
     "output_type": "stream",
     "text": [
      "13      2906000.0\n",
      "37      2832200.0\n",
      "61      2296900.0\n",
      "85      2264300.0\n",
      "109     2538000.0\n",
      "133     3198500.0\n",
      "157     5319300.0\n",
      "181     4100200.0\n",
      "205     5163000.0\n",
      "229     4982200.0\n",
      "253     8507800.0\n",
      "277     5993700.0\n",
      "301     3995800.0\n",
      "325     3279400.0\n",
      "349     3344400.0\n",
      "373     4155500.0\n",
      "397     9423200.0\n",
      "421     4890300.0\n",
      "445     3545200.0\n",
      "469     3147000.0\n",
      "493     2781200.0\n",
      "517     4637200.0\n",
      "541     4490700.0\n",
      "565     3581700.0\n",
      "589     2553300.0\n",
      "613     2472700.0\n",
      "637     2183300.0\n",
      "661     2289600.0\n",
      "685     2236000.0\n",
      "709     1978200.0\n",
      "          ...    \n",
      "8077    6087200.0\n",
      "8101    5386800.0\n",
      "8125    5245900.0\n",
      "8149    6696600.0\n",
      "8173    5845000.0\n",
      "8197    4918100.0\n",
      "8221    4221000.0\n",
      "8245    4844000.0\n",
      "8269    6816100.0\n",
      "8293    4805400.0\n",
      "8317    4586800.0\n",
      "8341    5826900.0\n",
      "8365    5340800.0\n",
      "8389    7012100.0\n",
      "8413    6623200.0\n",
      "8437    6315800.0\n",
      "8461    6757700.0\n",
      "8485    5979700.0\n",
      "8509    5381800.0\n",
      "8533    4617400.0\n",
      "8557    3999000.0\n",
      "8581    3822300.0\n",
      "8605    6091100.0\n",
      "8629    3208500.0\n",
      "8653    3110300.0\n",
      "8677    3670900.0\n",
      "8701    4357200.0\n",
      "8725    4192300.0\n",
      "8749    3935900.0\n",
      "8773    3760000.0\n",
      "Name: Aportes Energia kWh, dtype: float64\n"
     ]
    }
   ],
   "source": [
    " print(aportese)"
   ]
  },
  {
   "cell_type": "code",
   "execution_count": null,
   "metadata": {
    "collapsed": true
   },
   "outputs": [],
   "source": []
  },
  {
   "cell_type": "code",
   "execution_count": null,
   "metadata": {
    "collapsed": true
   },
   "outputs": [],
   "source": []
  }
 ],
 "metadata": {
  "kernelspec": {
   "display_name": "Python [conda root]",
   "language": "python",
   "name": "conda-root-py"
  },
  "language_info": {
   "codemirror_mode": {
    "name": "ipython",
    "version": 3
   },
   "file_extension": ".py",
   "mimetype": "text/x-python",
   "name": "python",
   "nbconvert_exporter": "python",
   "pygments_lexer": "ipython3",
   "version": "3.5.2"
  }
 },
 "nbformat": 4,
 "nbformat_minor": 1
}
